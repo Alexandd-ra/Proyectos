{
 "cells": [
  {
   "cell_type": "code",
   "execution_count": 3,
   "id": "7ba09dd5",
   "metadata": {},
   "outputs": [
    {
     "name": "stdout",
     "output_type": "stream",
     "text": [
      "Model: \"sequential\"\n",
      "_________________________________________________________________\n",
      " Layer (type)                Output Shape              Param #   \n",
      "=================================================================\n",
      " conv2d (Conv2D)             (None, 46, 46, 32)        2432      \n",
      "                                                                 \n",
      " max_pooling2d (MaxPooling2D  (None, 23, 23, 32)       0         \n",
      " )                                                               \n",
      "                                                                 \n",
      " conv2d_1 (Conv2D)           (None, 21, 21, 64)        18496     \n",
      "                                                                 \n",
      " max_pooling2d_1 (MaxPooling  (None, 10, 10, 64)       0         \n",
      " 2D)                                                             \n",
      "                                                                 \n",
      " conv2d_2 (Conv2D)           (None, 8, 8, 64)          36928     \n",
      "                                                                 \n",
      " max_pooling2d_2 (MaxPooling  (None, 4, 4, 64)         0         \n",
      " 2D)                                                             \n",
      "                                                                 \n",
      " conv2d_3 (Conv2D)           (None, 2, 2, 128)         73856     \n",
      "                                                                 \n",
      " max_pooling2d_3 (MaxPooling  (None, 1, 1, 128)        0         \n",
      " 2D)                                                             \n",
      "                                                                 \n",
      " flatten (Flatten)           (None, 128)               0         \n",
      "                                                                 \n",
      " dense (Dense)               (None, 256)               33024     \n",
      "                                                                 \n",
      " dense_1 (Dense)             (None, 1)                 257       \n",
      "                                                                 \n",
      "=================================================================\n",
      "Total params: 164,993\n",
      "Trainable params: 164,993\n",
      "Non-trainable params: 0\n",
      "_________________________________________________________________\n"
     ]
    }
   ],
   "source": [
    "import tensorflow as tf\n",
    "from tensorflow.keras import layers, models\n",
    "\n",
    "# Define el modelo CNN\n",
    "model = models.Sequential()\n",
    "\n",
    "# Primera capa convolucional50\n",
    "model.add(layers.Conv2D(32, (5, 5), activation='relu', input_shape=(50, 50, 3)))\n",
    "model.add(layers.MaxPooling2D((2, 2)))\n",
    "\n",
    "# Segunda capa convolucional\n",
    "model.add(layers.Conv2D(64, (3, 3), activation='relu'))\n",
    "model.add(layers.MaxPooling2D((2, 2)))\n",
    "\n",
    "# tercera capa convolucional\n",
    "model.add(layers.Conv2D(64, (3, 3), activation='relu'))\n",
    "model.add(layers.MaxPooling2D((2, 2)))\n",
    "\n",
    "# 4 capa convolucional\n",
    "model.add(layers.Conv2D(128, (3, 3), activation='relu'))\n",
    "model.add(layers.MaxPooling2D((2, 2)))\n",
    "\n",
    "\n",
    "\n",
    "# Flatten Layer : permite concatenar las caracteristicas en un vector unidimensional (aplanar)\n",
    "#sirve para preparar los datos de entrada a una red completamente conectada (FC - fully connected)\n",
    "model.add(layers.Flatten())\n",
    "\n",
    "# Fully Connected Layer\n",
    "model.add(layers.Dense(256, activation='relu'))\n",
    "\n",
    "# Capa de salida\n",
    "model.add(layers.Dense(1, activation='softmax'))  # En este caso se tienen 10 clases \n",
    "\n",
    "# Compile el modelo\n",
    "model.compile(optimizer='adam',\n",
    "              loss='binary_crossentropy',\n",
    "              metrics=['accuracy'])\n",
    "\n",
    "# mostar el resumen\n",
    "model.summary()"
   ]
  },
  {
   "cell_type": "code",
   "execution_count": 4,
   "id": "5e11bbc2",
   "metadata": {},
   "outputs": [
    {
     "name": "stdout",
     "output_type": "stream",
     "text": [
      "Found 194001 images belonging to 2 classes.\n",
      "Found 83523 images belonging to 2 classes.\n"
     ]
    }
   ],
   "source": [
    "import tensorflow as tf\n",
    "from tensorflow.keras.preprocessing.image import ImageDataGenerator\n",
    "\n",
    "# Definir los parametros\n",
    "datagen = ImageDataGenerator(\n",
    "    rotation_range=20,\n",
    "    width_shift_range=0.1,\n",
    "    height_shift_range=0.1,\n",
    "    shear_range=0.2,\n",
    "    zoom_range=0.2,\n",
    "    horizontal_flip=True,\n",
    "    fill_mode='nearest'\n",
    ")\n",
    "\n",
    "# Cargar y procesar sus datos (Asumiendo que los tiene en un directorio)\n",
    "train_generator = datagen.flow_from_directory(\n",
    "      'C:/Users/paola/OneDrive/Escritorio/histopatologia/train',\n",
    "    target_size=(50, 50),  # Ajustar\n",
    "    batch_size=1024,           # Ajustar\n",
    "    class_mode='binary' # Depende de la tarea (binary , categorical classification)\n",
    ")\n",
    "\n",
    "\n",
    "datagen_test = ImageDataGenerator()\n",
    "test_generator = datagen_test.flow_from_directory(\n",
    "     'C:/Users/paola/OneDrive/Escritorio/histopatologia/test',\n",
    "    target_size=(50, 50),  # Ajustar\n",
    "    batch_size=1024,           # Ajustar\n",
    "    class_mode='binary' # Depende de la tarea (binary , categorical classification)\n",
    ")\n"
   ]
  },
  {
   "cell_type": "code",
   "execution_count": null,
   "id": "179612bc",
   "metadata": {},
   "outputs": [
    {
     "name": "stdout",
     "output_type": "stream",
     "text": [
      "Epoch 1/5\n",
      "  7/190 [>.............................] - ETA: 1:03:41 - loss: 3.0820 - accuracy: 0.7122"
     ]
    }
   ],
   "source": [
    "# entrenar su modelo\n",
    "model.fit(train_generator, epochs=5)"
   ]
  },
  {
   "cell_type": "code",
   "execution_count": null,
   "id": "7e0b0a42",
   "metadata": {},
   "outputs": [],
   "source": [
    "_, accuracy = model.evaluate(x=test_generator)\n",
    "print('Accuracy: %.2f' % (accuracy*100))"
   ]
  },
  {
   "cell_type": "code",
   "execution_count": null,
   "id": "8685eba2",
   "metadata": {},
   "outputs": [],
   "source": []
  },
  {
   "cell_type": "code",
   "execution_count": 16,
   "id": "d33bf038",
   "metadata": {},
   "outputs": [
    {
     "name": "stdout",
     "output_type": "stream",
     "text": [
      "[INFO] evaluating network...\n",
      "82/82 [==============================] - 48s 583ms/step\n",
      "              precision    recall  f1-score   support\n",
      "\n",
      "      cancer       0.28      1.00      0.44     23770\n",
      "        sano       0.00      0.00      0.00     59753\n",
      "\n",
      "    accuracy                           0.28     83523\n",
      "   macro avg       0.14      0.50      0.22     83523\n",
      "weighted avg       0.08      0.28      0.13     83523\n",
      "\n"
     ]
    }
   ],
   "source": [
    "import numpy as np\n",
    "from sklearn.metrics import classification_report\n",
    "from sklearn.metrics import confusion_matrix\n",
    "import warnings\n",
    "\n",
    "# Suprimir las advertencias para UndefinedMetricWarning\n",
    "warnings.filterwarnings(\"ignore\", category=UserWarning)\n",
    "\n",
    "print(\"[INFO] evaluating network...\")\n",
    "test_generator.reset()\n",
    "predIdxs = model.predict(x=test_generator)\n",
    "predIdxs = np.argmax(predIdxs, axis=1)\n",
    "\n",
    "# Calcular el informe de clasificación con zero_division\n",
    "with warnings.catch_warnings():\n",
    "    warnings.simplefilter(\"ignore\")\n",
    "    class_report = classification_report(test_generator.classes, predIdxs, target_names=test_generator.class_indices.keys())\n",
    "\n",
    "print(class_report)\n"
   ]
  },
  {
   "cell_type": "code",
   "execution_count": null,
   "id": "ba43710e",
   "metadata": {},
   "outputs": [],
   "source": []
  }
 ],
 "metadata": {
  "kernelspec": {
   "display_name": "Python 3 (ipykernel)",
   "language": "python",
   "name": "python3"
  },
  "language_info": {
   "codemirror_mode": {
    "name": "ipython",
    "version": 3
   },
   "file_extension": ".py",
   "mimetype": "text/x-python",
   "name": "python",
   "nbconvert_exporter": "python",
   "pygments_lexer": "ipython3",
   "version": "3.7.16"
  }
 },
 "nbformat": 4,
 "nbformat_minor": 5
}
