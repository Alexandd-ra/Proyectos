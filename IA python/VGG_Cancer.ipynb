{
 "cells": [
  {
   "cell_type": "code",
   "execution_count": 86,
   "id": "4a44156c",
   "metadata": {},
   "outputs": [],
   "source": [
    "import tensorflow as tf\n",
    "from tensorflow.keras import layers, models\n",
    "from tensorflow.keras.preprocessing.image import ImageDataGenerator\n",
    "\n",
    "\n",
    "\n",
    "\n",
    "# Función para crear la VGG\n",
    "def build_vgg(input_shape, num_classes):\n",
    "\n",
    "  model = models.Sequential()\n",
    "\n",
    "  # Bloque 1\n",
    "  model.add(layers.Conv2D(64, (3, 3), activation='relu', padding='same', input_shape=input_shape))\n",
    "  model.add(layers.Conv2D(64, (3, 3), activation='relu', padding='same'))\n",
    "  model.add(layers.MaxPooling2D((2, 2)))\n",
    "\n",
    "  # Bloque 2\n",
    "  model.add(layers.Conv2D(128, (3, 3), activation='relu', padding='same'))\n",
    "  model.add(layers.Conv2D(128, (3, 3), activation='relu', padding='same'))\n",
    "  model.add(layers.MaxPooling2D((2, 2)))\n",
    "\n",
    "  # Bloque 3\n",
    "  model.add(layers.Conv2D(256, (3, 3), activation='relu', padding='same'))\n",
    "  model.add(layers.Conv2D(256, (3, 3), activation='relu', padding='same'))\n",
    "  model.add(layers.Conv2D(256, (3, 3), activation='relu', padding='same'))\n",
    "  model.add(layers.MaxPooling2D((2, 2)))\n",
    "\n",
    "  # Bloque 4\n",
    "  model.add(layers.Conv2D(512, (3, 3), activation='relu', padding='same'))\n",
    "  model.add(layers.Conv2D(512, (3, 3), activation='relu', padding='same'))\n",
    "  model.add(layers.Conv2D(512, (3, 3), activation='relu', padding='same'))\n",
    "  model.add(layers.MaxPooling2D((2, 2)))\n",
    "\n",
    "  # Capas completamente conectadas\n",
    "  model.add(layers.Flatten())\n",
    "  model.add(layers.Dense(1024, activation='relu'))\n",
    "  model.add(layers.Dense(1024, activation='relu'))\n",
    "\n",
    "  # Capa de salida\n",
    "  model.add(layers.Dense(1, activation='softmax'))\n",
    "\n",
    "  return model"
   ]
  },
  {
   "cell_type": "code",
   "execution_count": 87,
   "id": "217c13f5",
   "metadata": {},
   "outputs": [],
   "source": [
    "# Cargar datos\n",
    "train_dir =  'C:/Users/paola/OneDrive/Escritorio/histopatologia/train'\n",
    "val_dir =  'C:/Users/paola/OneDrive/Escritorio/histopatologia/test'\n",
    "image_size = (24, 24)"
   ]
  },
  {
   "cell_type": "code",
   "execution_count": 88,
   "id": "a285b3c3",
   "metadata": {},
   "outputs": [
    {
     "name": "stdout",
     "output_type": "stream",
     "text": [
      "Found 194001 images belonging to 2 classes.\n",
      "Found 83523 images belonging to 2 classes.\n"
     ]
    }
   ],
   "source": [
    "# preprocesar datos\n",
    "train_gen = ImageDataGenerator(rescale=1./24)\n",
    "valid_gen = ImageDataGenerator(rescale=1./24)\n",
    "\n",
    "train_generator = train_gen.flow_from_directory(\n",
    "        train_dir,\n",
    "        target_size=image_size,\n",
    "        batch_size=1024)\n",
    "\n",
    "valid_generator = valid_gen.flow_from_directory(\n",
    "        val_dir,\n",
    "        target_size=image_size,\n",
    "        batch_size=1024)\n",
    "        "
   ]
  },
  {
   "cell_type": "code",
   "execution_count": 92,
   "id": "8f57fd4a",
   "metadata": {},
   "outputs": [],
   "source": [
    "# Crear modelo VGG\n",
    "input_shape = image_size + (3,)\n",
    "num_classes = 1\n",
    "\n",
    "model = build_vgg(input_shape, num_classes)"
   ]
  },
  {
   "cell_type": "code",
   "execution_count": 93,
   "id": "8b421c76",
   "metadata": {},
   "outputs": [
    {
     "name": "stdout",
     "output_type": "stream",
     "text": [
      "Model: \"sequential_16\"\n",
      "_________________________________________________________________\n",
      " Layer (type)                Output Shape              Param #   \n",
      "=================================================================\n",
      " conv2d_173 (Conv2D)         (None, 24, 24, 64)        1792      \n",
      "                                                                 \n",
      " conv2d_174 (Conv2D)         (None, 24, 24, 64)        36928     \n",
      "                                                                 \n",
      " max_pooling2d_67 (MaxPoolin  (None, 12, 12, 64)       0         \n",
      " g2D)                                                            \n",
      "                                                                 \n",
      " conv2d_175 (Conv2D)         (None, 12, 12, 128)       73856     \n",
      "                                                                 \n",
      " conv2d_176 (Conv2D)         (None, 12, 12, 128)       147584    \n",
      "                                                                 \n",
      " max_pooling2d_68 (MaxPoolin  (None, 6, 6, 128)        0         \n",
      " g2D)                                                            \n",
      "                                                                 \n",
      " conv2d_177 (Conv2D)         (None, 6, 6, 256)         295168    \n",
      "                                                                 \n",
      " conv2d_178 (Conv2D)         (None, 6, 6, 256)         590080    \n",
      "                                                                 \n",
      " conv2d_179 (Conv2D)         (None, 6, 6, 256)         590080    \n",
      "                                                                 \n",
      " max_pooling2d_69 (MaxPoolin  (None, 3, 3, 256)        0         \n",
      " g2D)                                                            \n",
      "                                                                 \n",
      " conv2d_180 (Conv2D)         (None, 3, 3, 512)         1180160   \n",
      "                                                                 \n",
      " conv2d_181 (Conv2D)         (None, 3, 3, 512)         2359808   \n",
      "                                                                 \n",
      " conv2d_182 (Conv2D)         (None, 3, 3, 512)         2359808   \n",
      "                                                                 \n",
      " max_pooling2d_70 (MaxPoolin  (None, 1, 1, 512)        0         \n",
      " g2D)                                                            \n",
      "                                                                 \n",
      " flatten_16 (Flatten)        (None, 512)               0         \n",
      "                                                                 \n",
      " dense_48 (Dense)            (None, 1024)              525312    \n",
      "                                                                 \n",
      " dense_49 (Dense)            (None, 1024)              1049600   \n",
      "                                                                 \n",
      " dense_50 (Dense)            (None, 1)                 1025      \n",
      "                                                                 \n",
      "=================================================================\n",
      "Total params: 9,211,201\n",
      "Trainable params: 9,211,201\n",
      "Non-trainable params: 0\n",
      "_________________________________________________________________\n"
     ]
    }
   ],
   "source": [
    "# Compilar modelo\n",
    "model.compile(optimizer='adam',loss='binary_crossentropy',metrics=['accuracy'])\n",
    "model.summary()"
   ]
  },
  {
   "cell_type": "code",
   "execution_count": 94,
   "id": "444bbb8f",
   "metadata": {},
   "outputs": [
    {
     "name": "stdout",
     "output_type": "stream",
     "text": [
      "Epoch 1/3\n",
      "190/190 [==============================] - 4321s 23s/step - loss: 0.6944 - accuracy: 0.5000 - val_loss: 0.6931 - val_accuracy: 0.5000\n",
      "Epoch 2/3\n",
      "190/190 [==============================] - 4533s 24s/step - loss: 0.6931 - accuracy: 0.5000 - val_loss: 0.6931 - val_accuracy: 0.5000\n",
      "Epoch 3/3\n",
      "190/190 [==============================] - 5035s 27s/step - loss: 0.6931 - accuracy: 0.5000 - val_loss: 0.6931 - val_accuracy: 0.5000\n"
     ]
    },
    {
     "data": {
      "text/plain": [
       "<keras.callbacks.History at 0x213e3aaac88>"
      ]
     },
     "execution_count": 94,
     "metadata": {},
     "output_type": "execute_result"
    }
   ],
   "source": [
    "# Entrenar modelo\n",
    "model.fit(train_generator, validation_data=valid_generator, epochs=3)"
   ]
  },
  {
   "cell_type": "code",
   "execution_count": 97,
   "id": "500b55c4",
   "metadata": {},
   "outputs": [
    {
     "name": "stdout",
     "output_type": "stream",
     "text": [
      "82/82 [==============================] - 309s 4s/step - loss: 0.6931 - accuracy: 0.5000\n",
      "Accuracy: 50.00\n"
     ]
    }
   ],
   "source": [
    "_, accuracy = model.evaluate(x=valid_generator)\n",
    "print('Accuracy: %.2f' % (accuracy*100))"
   ]
  },
  {
   "cell_type": "code",
   "execution_count": 99,
   "id": "66382e1c",
   "metadata": {},
   "outputs": [
    {
     "name": "stdout",
     "output_type": "stream",
     "text": [
      "82/82 [==============================] - 282s 3s/step\n",
      "Accuracy: 0.7154077320019635\n",
      "Precision: 0.7154077320019635\n",
      "Recall: 1.0\n",
      "AUC-ROC: 0.5\n"
     ]
    }
   ],
   "source": [
    "from sklearn.metrics import accuracy_score, precision_score, recall_score, roc_auc_score\n",
    "import numpy as np\n",
    "\n",
    "# Predicciones en el conjunto de validación\n",
    "y_pred = model.predict(valid_generator)\n",
    "y_true = valid_generator.classes  # Etiquetas verdaderas\n",
    "\n",
    "# Convertir las probabilidades a etiquetas binarias (0 o 1) usando un umbral\n",
    "threshold = 0.5\n",
    "y_pred_binary = (y_pred > threshold).astype(int)\n",
    "\n",
    "# Calcular métricas\n",
    "accuracy = accuracy_score(y_true, y_pred_binary)\n",
    "precision = precision_score(y_true, y_pred_binary)\n",
    "recall = recall_score(y_true, y_pred_binary)\n",
    "roc_auc = roc_auc_score(y_true, y_pred)\n",
    "\n",
    "print(f'Accuracy: {accuracy}')\n",
    "print(f'Precision: {precision}')\n",
    "print(f'Recall: {recall}')\n",
    "print(f'AUC-ROC: {roc_auc}')\n"
   ]
  },
  {
   "cell_type": "code",
   "execution_count": null,
   "id": "a3ed0f1e",
   "metadata": {},
   "outputs": [],
   "source": []
  }
 ],
 "metadata": {
  "kernelspec": {
   "display_name": "Python 3 (ipykernel)",
   "language": "python",
   "name": "python3"
  },
  "language_info": {
   "codemirror_mode": {
    "name": "ipython",
    "version": 3
   },
   "file_extension": ".py",
   "mimetype": "text/x-python",
   "name": "python",
   "nbconvert_exporter": "python",
   "pygments_lexer": "ipython3",
   "version": "3.7.16"
  }
 },
 "nbformat": 4,
 "nbformat_minor": 5
}
