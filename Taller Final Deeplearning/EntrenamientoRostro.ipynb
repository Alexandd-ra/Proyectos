{
 "cells": [
  {
   "cell_type": "code",
   "execution_count": 2,
   "id": "80afef5d",
   "metadata": {},
   "outputs": [
    {
     "name": "stdout",
     "output_type": "stream",
     "text": [
      "Lista de clientes:  ['sebastian']\n",
      "Leyendo las imágenes\n",
      "Rostros:  sebastian/img_0.png\n",
      "Rostros:  sebastian/img_1.png\n",
      "Rostros:  sebastian/img_10.png\n",
      "Rostros:  sebastian/img_11.png\n",
      "Rostros:  sebastian/img_12.png\n",
      "Rostros:  sebastian/img_13.png\n",
      "Rostros:  sebastian/img_14.png\n",
      "Rostros:  sebastian/img_15.png\n",
      "Rostros:  sebastian/img_16.png\n",
      "Rostros:  sebastian/img_17.png\n",
      "Rostros:  sebastian/img_18.png\n",
      "Rostros:  sebastian/img_19.png\n",
      "Rostros:  sebastian/img_2.png\n",
      "Rostros:  sebastian/img_3.png\n",
      "Rostros:  sebastian/img_4.png\n",
      "Rostros:  sebastian/img_5.png\n",
      "Rostros:  sebastian/img_6.png\n",
      "Rostros:  sebastian/img_7.png\n",
      "Rostros:  sebastian/img_8.png\n",
      "Rostros:  sebastian/img_9.png\n",
      "Entrenando...\n",
      "Modelo almacenado...\n"
     ]
    }
   ],
   "source": [
    "import cv2\n",
    "import cv2.face\n",
    "import os\n",
    "import numpy as np\n",
    "\n",
    "dataPath = 'C:/Users/Diego Cortes/Desktop/Taller Final Deeplearning/prueba'\n",
    "peopleList = os.listdir(dataPath)\n",
    "print('Lista de clientes: ', peopleList)\n",
    "\n",
    "labels = []\n",
    "facesData = []\n",
    "label = 0\n",
    "\n",
    "for nameDir in peopleList:\n",
    "\tpersonPath = dataPath + '/' + nameDir\n",
    "\tprint('Leyendo las imágenes')\n",
    "\n",
    "\tfor fileName in os.listdir(personPath):\n",
    "\t\tprint('Rostros: ', nameDir + '/' + fileName)\n",
    "\t\tlabels.append(label)\n",
    "\t\tfacesData.append(cv2.imread(personPath+'/'+fileName,0))\n",
    "\t\timage = cv2.imread(personPath+'/'+fileName,0)\n",
    "\t\t#cv2.imshow('image',image)\n",
    "\t\t#cv2.waitKey(10)\n",
    "\tlabel = label + 1\n",
    "\n",
    "#print('labels= ',labels)\n",
    "#print('Número de etiquetas 0: ',np.count_nonzero(np.array(labels)==0))\n",
    "#print('Número de etiquetas 1: ',np.count_nonzero(np.array(labels)==1))\n",
    "\n",
    "# Métodos para entrenar el reconocedor\n",
    "face_recognizer = cv2.face.EigenFaceRecognizer_create()\n",
    "#face_recognizer = cv2.face.FisherFaceRecognizer_create()\n",
    "#face_recognizer = cv2.face.LBPHFaceRecognizer_create()\n",
    "\n",
    "# Entrenando el reconocedor de rostros\n",
    "print(\"Entrenando...\")\n",
    "face_recognizer.train(facesData, np.array(labels))\n",
    "\n",
    "# Almacenando el modelo obtenido\n",
    "face_recognizer.write('modeloEigenFace.xml')\n",
    "#face_recognizer.write('modeloFisherFace.xml')\n",
    "#face_recognizer.write('modeloLBPHFace.xml')\n",
    "print(\"Modelo almacenado...\")"
   ]
  },
  {
   "cell_type": "code",
   "execution_count": null,
   "id": "b996354b",
   "metadata": {},
   "outputs": [],
   "source": []
  },
  {
   "cell_type": "code",
   "execution_count": null,
   "id": "d1b854fa",
   "metadata": {},
   "outputs": [],
   "source": []
  }
 ],
 "metadata": {
  "kernelspec": {
   "display_name": "Python 3 (ipykernel)",
   "language": "python",
   "name": "python3"
  },
  "language_info": {
   "codemirror_mode": {
    "name": "ipython",
    "version": 3
   },
   "file_extension": ".py",
   "mimetype": "text/x-python",
   "name": "python",
   "nbconvert_exporter": "python",
   "pygments_lexer": "ipython3",
   "version": "3.7.16"
  }
 },
 "nbformat": 4,
 "nbformat_minor": 5
}
